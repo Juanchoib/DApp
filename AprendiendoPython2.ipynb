{
  "nbformat": 4,
  "nbformat_minor": 0,
  "metadata": {
    "colab": {
      "provenance": [],
      "include_colab_link": true
    },
    "kernelspec": {
      "name": "python3",
      "display_name": "Python 3"
    }
  },
  "cells": [
    {
      "cell_type": "markdown",
      "metadata": {
        "id": "view-in-github",
        "colab_type": "text"
      },
      "source": [
        "<a href=\"https://colab.research.google.com/github/Juanchoib/DApp/blob/main/AprendiendoPython2.ipynb\" target=\"_parent\"><img src=\"https://colab.research.google.com/assets/colab-badge.svg\" alt=\"Open In Colab\"/></a>"
      ]
    },
    {
      "cell_type": "markdown",
      "metadata": {
        "id": "-7HckYqidlzO"
      },
      "source": [
        "# Condición\n",
        "Es una estructura de control que toma una decisión y ejecuta ciertas acciones\n",
        "\n",
        "**if** para preguntar ( si )\n",
        "\n",
        "**elif** para volver a preguntar ( si no, si )\n",
        "\n",
        "**else** alternativa final ( si no)\n",
        "\n",
        "La sintaxis es importante.\n",
        "\n",
        "# Comprar alimentos\n",
        "\n",
        "```\n",
        "if hay de pollo:\n",
        "  compra 3 de pollo\n",
        "  compra un jugo\n",
        "elif hay de bisteck:\n",
        "  compra 3 de bisteck\n",
        "  compra un refresco\n",
        "else:\n",
        "  compra un refresco \n",
        "```"
      ]
    },
    {
      "cell_type": "code",
      "metadata": {
        "id": "GWRme_yudf7B",
        "colab": {
          "base_uri": "https://localhost:8080/",
          "height": 52
        },
        "outputId": "624fdc24-b3f3-4bf5-faca-50920c6f9804"
      },
      "source": [
        "#Ejercicio 1\n",
        "\n",
        "tu_edad = 18\n",
        "\n",
        "if tu_edad>=18:\n",
        "  print(\"Es mayor de edad\")\n",
        "  print(\"Puede pasar\")\n",
        "\n",
        "else: \n",
        "  print(\"No puede pasar\")\n"
      ],
      "execution_count": null,
      "outputs": [
        {
          "output_type": "stream",
          "text": [
            "Es mayor de edad\n",
            "Puede pasar\n"
          ],
          "name": "stdout"
        }
      ]
    },
    {
      "cell_type": "markdown",
      "metadata": {
        "id": "oPhe8XCahyrL"
      },
      "source": [
        "### Ejercicio esencial de programación \n",
        "Dado un número, saber si es par o impar. \n",
        " \n",
        " \n",
        "Utiliza el operador Modulo %\n",
        " \n",
        "El modulo obtiene el residuo de una división"
      ]
    },
    {
      "cell_type": "code",
      "metadata": {
        "id": "xIkUgkcbh1ZJ",
        "colab": {
          "base_uri": "https://localhost:8080/",
          "height": 34
        },
        "outputId": "0ab5fcb7-fbfd-45c2-b676-18d5ceead85f"
      },
      "source": [
        "num = 19\n",
        "\n",
        "if num % 2 == 0:\n",
        "  print(\"Es par\")\n",
        "else: \n",
        "  print(\"Es impar\")"
      ],
      "execution_count": null,
      "outputs": [
        {
          "output_type": "stream",
          "text": [
            "Es impar\n"
          ],
          "name": "stdout"
        }
      ]
    },
    {
      "cell_type": "markdown",
      "metadata": {
        "id": "p8j10A4PkFd7"
      },
      "source": [
        "## Primera estructura de datos \n",
        "\n",
        "**Lista**\n",
        "\n",
        "Es un contenedor de elementos \n",
        "puede tener distintos tipos de valores, enteros, cadenas y otros objetos "
      ]
    },
    {
      "cell_type": "code",
      "metadata": {
        "id": "8PxFMLzjivRH"
      },
      "source": [
        "mi_list = [1,2,3,4]\n",
        "mi_list\n",
        "mi_colores = [\"azul\", \"morado\", \"blanco\"]"
      ],
      "execution_count": null,
      "outputs": []
    },
    {
      "cell_type": "code",
      "metadata": {
        "id": "LXaCcJO2kWnp",
        "colab": {
          "base_uri": "https://localhost:8080/",
          "height": 34
        },
        "outputId": "dc6de5c1-d33e-4608-f737-6ba3add15660"
      },
      "source": [
        "mi_colores"
      ],
      "execution_count": null,
      "outputs": [
        {
          "output_type": "execute_result",
          "data": {
            "text/plain": [
              "['azul', 'morado', 'blanco']"
            ]
          },
          "metadata": {
            "tags": []
          },
          "execution_count": 14
        }
      ]
    },
    {
      "cell_type": "markdown",
      "metadata": {
        "id": "IB4mHro9onqk"
      },
      "source": [
        "## Ciclos bucles o loops\n",
        "\n",
        "Es una secuencia de código que se ejecuta repetidas veces, hasta que se cumpla una condición. \n",
        "\n",
        "Existen los ciclos \"For\" y \"While\" \n",
        "\n",
        "For es más importante\n",
        "\n",
        "Los For en python se ejecutan sobre iterables. \n",
        "\n",
        "\n",
        "\n",
        "```\n",
        "# Sintaxis\n",
        "for i in interable:\n",
        "  codigo\n",
        "```\n",
        "\n",
        "\n",
        "\n",
        "\n",
        "**Cadena** \n",
        "\n",
        "\"Hola Mundo\"\n",
        "\n",
        "**Lista**\n",
        "\n",
        "[\"azul\", \"morado\", \"blanco\"]\n",
        "\n",
        "**Rangos** \n",
        "\n",
        "range(5)"
      ]
    },
    {
      "cell_type": "code",
      "metadata": {
        "id": "aOSw2FerkkMZ",
        "colab": {
          "base_uri": "https://localhost:8080/",
          "height": 70
        },
        "outputId": "94600868-7b61-424e-b1b3-71647a1867b0"
      },
      "source": [
        "for mi_valor in mi_colores:\n",
        "  print(\"El valor en la vuelta es: \", mi_valor)"
      ],
      "execution_count": null,
      "outputs": [
        {
          "output_type": "stream",
          "text": [
            "El valor en la vuelta es:  azul\n",
            "El valor en la vuelta es:  morado\n",
            "El valor en la vuelta es:  blanco\n"
          ],
          "name": "stdout"
        }
      ]
    },
    {
      "cell_type": "code",
      "metadata": {
        "id": "8J-I8sbgqcc_",
        "colab": {
          "base_uri": "https://localhost:8080/",
          "height": 52
        },
        "outputId": "ed38f3f4-3e28-48e0-f642-635d14464fb5"
      },
      "source": [
        "for i in range(2):\n",
        "  print(i)"
      ],
      "execution_count": null,
      "outputs": [
        {
          "output_type": "stream",
          "text": [
            "0\n",
            "1\n"
          ],
          "name": "stdout"
        }
      ]
    },
    {
      "cell_type": "markdown",
      "metadata": {
        "id": "utphKBirutkq"
      },
      "source": [
        "## Ejercicio \n",
        "\n",
        "Muestra si dado un usuario está registrado o no al sistema.\n",
        "\n",
        "Los usuarios válidos se encuentra en la siguiente lista:\n",
        "\n",
        "`[\"juan@gmail.com\", \"maria@gmail.com\", \"pablo@gmail.com\", \"pedro@gmail.com\"]`\n",
        "\n",
        "* Usar un ciclo for y una condición para determinar tu respuesta.\n",
        "\n",
        "\n",
        "\n",
        "![texto alternativo](https://www.gsmseguridad.com.mx/wp-content/uploads/2020/02/medidas-de-seguridad-en-la-red-gsm.png)"
      ]
    },
    {
      "cell_type": "code",
      "metadata": {
        "id": "Vii5WV74q3Oo",
        "colab": {
          "base_uri": "https://localhost:8080/",
          "height": 34
        },
        "outputId": "6e489a5a-1797-4611-f132-e196eea52227"
      },
      "source": [
        "usuario = \"pablo@gmail.com\"\n",
        "\n",
        "correos = [\"juan@gmail.com\", \"maria@gmail.com\", \"pablo@gmail.com\", \"pedro@gmail.com\"]\n",
        "\n",
        "esta_registrado = False\n",
        "\n",
        "for correo in correos:\n",
        "  if usuario== correo:\n",
        "    esta_registrado = True\n",
        "\n",
        "if esta_registrado:\n",
        "  print(\"Si, tiene acceso al sistema\")\n",
        "else:\n",
        "  print(\"No se reconoce al usuario\")"
      ],
      "execution_count": null,
      "outputs": [
        {
          "output_type": "stream",
          "text": [
            "Si, tiene acceso al sistema\n"
          ],
          "name": "stdout"
        }
      ]
    }
  ]
}